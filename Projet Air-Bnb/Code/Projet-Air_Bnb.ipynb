{
 "cells": [
  {
   "cell_type": "markdown",
   "metadata": {},
   "source": [
    "# Projet Air-Bnb\n",
    "\n",
    "# 1) Problématique\n",
    "\n",
    "Au cours des derniers mois, la France a été frappée par le virus du COVID 19. Cette pandémie s'est répandue rapidement au niveau national, avec de grandes disparités entre les régions. Le gouvernement français met en place un système d'information sur l'état de contamination au niveau départemental. Le 28 mai, L'Île de France est notée \"zone rouge\", ce qui signifie qu'elle reste encore fortement touchée par le virus, dans le même temps, des régions se déconfinent progressivement. Aujourd'hui, la règle des \"100 km\" ayant été relevée, il est désormais possible de se déplacer sur l'ensemble du territoire.\n",
    "\n",
    "Cette actualité a nourri beaucoup de réflexions sur le travail à distance, largement favorisée par les entreprises afin de limiter les risques de contamination. \n",
    "\n",
    "Problématique : \n",
    "\n",
    "Didier est Data Scientist au sein du service analyse quantitative de l'AP-HP. Il est l'heureux propriétaire de deux biens immobiliers. Sa résidence principale se situe à Paris, sa résidence secondaire à Nice. Didier souhaiterait mettre l'un de ces deux appartements en location, sur AirBNB, pour la période estivale. Lequel de ses logements a t-il intérêt à mettre en location cet été ? \n",
    "\n",
    "Didier est en télé-travail, il peut donc travailler depuis Paris ou Nice et il est indifferent entre ces deux villes. On suppose que Didier louera son logement là où il maximisera son profit. \n",
    "\n",
    "Pour aider Didier à prendre sa décision, nous avons scappé les données d'Air-Bnb pour ces deux villes. Après avoir nettoyé la base, nous sélectionnerons les variables qui caractérisent le mieux le prix par nuit pour les deux appartements."
   ]
  },
  {
   "cell_type": "markdown",
   "metadata": {},
   "source": [
    "# 2) Packages utilisés\n",
    "\n",
    "Pour rendre l'expérience utilisateur plus simple et présenter des résultats lisible, nous avons packagé toutes les fonctions que nous utilisons. Merci de les importer en modifiant l'os.chdir indiqué."
   ]
  },
  {
   "cell_type": "code",
   "execution_count": 1,
   "metadata": {},
   "outputs": [],
   "source": [
    "import os\n",
    "\n",
    "os.chdir(\"Le path du projet pour importer les modules\")\n",
    "\n",
    "import pandas as pd\n",
    "from Packages.Search_air_bnb import Search\n",
    "from Packages.Scrap_Air_Bnb import Scrap_Air_Bnb\n",
    "from Packages.Clean_Air_Bnb import cleaning\n",
    "from Packages.Var_selection import corr_select\n",
    "from Packages.Var_selection import pvalue_select\n",
    "from Packages.Var_selection import ACP_select\n",
    "from Packages.Var_selection import rfe_select\n",
    "from Packages.Modelisation import modelisation"
   ]
  },
  {
   "cell_type": "markdown",
   "metadata": {},
   "source": [
    "# 3) Partie Scraping\n",
    "\n",
    "Nous avons construit des fonctions automatisant le scraping d'Air-Bnb dans le but de rendre notre projet utilisable sur plusieurs villes. On peut grace à la fonction Search indiquer le lieu, les dates et le nombre de voyageurs que l'on désire afin d'obtenir un lien qui servira de base au web-scraping.\n",
    "\n",
    "La fonction Scrap_Air_Bnb lance le scraping, on peut préciser le nombre page que l'on désire scrapper, correspondant à vingt logements.\n",
    "\n",
    "Si vous désirez lancer le scraping, merci de remplacer le path qui indique le Chrome Driver nécéssaire pour utiliser sélenium.\n",
    "\n",
    "Les bases finales que nous avons mis à votre disposition sont une compilation de plusieurs bases récupérées en scrappant sur plusieur périodes de la durée estival. Le maximum que l'on puisse scraper en une seule fois est 15*20= 300 observations a cause de la structure du site d'Air Bnb."
   ]
  },
  {
   "cell_type": "code",
   "execution_count": null,
   "metadata": {},
   "outputs": [],
   "source": [
    "path=r\"Le path du webdriver\\chromedriver.exe\"\n",
    "\n",
    "link=Search(chrome_path=path, Ville=\"Nice\",Arrivée_Mois=7, Arrivée_Jour=1, Départ_Mois=7, Départ_Jour=15, Adultes=1, Enfants=0, Bébés=1)\n",
    "\n",
    "Base=Scrap_Air_Bnb(chrome_path=path, lien=link, Nb_vingtaine_pages=5)\n",
    "\n",
    "Base.to_csv(\"Votre dossier//Base.csv\")"
   ]
  },
  {
   "cell_type": "markdown",
   "metadata": {},
   "source": [
    "# 4) Partie Cleaning\n",
    "\n",
    "Après avoir scrapé, obtenu nos données brutes, puis réimporté la base, nous avons automatisé le nettoyage de la base en supprimant les valeurs manquante et en supprimant les données abérrantes.\n",
    "\n",
    "Vous pouvez commencer ici a importer la base fournie en l'important et en la nettoyant."
   ]
  },
  {
   "cell_type": "code",
   "execution_count": 2,
   "metadata": {},
   "outputs": [],
   "source": [
    "Base=pd.read_csv(r'Le path de la base\\\\Paris.csv')\n",
    "\n",
    "Clean_Base=cleaning(DataFrame=Base)"
   ]
  },
  {
   "cell_type": "markdown",
   "metadata": {},
   "source": [
    "# 5) Partie Selection et Réduction \n",
    "\n",
    "Nous utilisons plusieurs méthodes pour sélectioner des variables.\n",
    "Premierement nous avons réduit le nombre de variables en faisant de l'Analyse en Composantes Principales (beaucoup de variables sont trés corrélées, de plus les équipements sont plus intéressants exploités en lot). Nous avons ensuite étudié les corrélations, la significativité de nos variables et fait de la RFE (Recursive Feature Elimnation)."
   ]
  },
  {
   "cell_type": "markdown",
   "metadata": {},
   "source": [
    "## 5.1) ACP\n",
    "\n",
    "Ici on effectue de l'ACP pour créer des variables synthétiqes qui pourront etre incorporées dans la modélisation.\n",
    "\n",
    "On obtient les variables Cuisine1, Secu1, Host1, Bébé1, Luxe1, List_nb. On les ajoute a notre base. On crée aussi une base annexe qui contient juste le prix et les variables tirées de l'ACP."
   ]
  },
  {
   "cell_type": "code",
   "execution_count": 3,
   "metadata": {},
   "outputs": [
    {
     "name": "stdout",
     "output_type": "stream",
     "text": [
      "Index(['Cuisine1', 'Secu1', 'Host1', 'Bébé1', 'Luxe1', 'List_nb'], dtype='object')\n"
     ]
    }
   ],
   "source": [
    "acp=ACP_select(Clean_Base)\n",
    "\n",
    "Clean_Base_plus_acp=pd.concat([Clean_Base,acp], axis=1).dropna()\n",
    "\n",
    "Clean_Base_only_acp=pd.concat([Clean_Base[\"Prix_sans_reduc\"],acp], axis=1).dropna()\n",
    "\n",
    "print(acp.columns)"
   ]
  },
  {
   "cell_type": "markdown",
   "metadata": {},
   "source": [
    "## 5.2) Sélection par corrélations\n",
    "\n",
    "Ici nous analysons les corrélations entre nos variables et le prix. La fonction corr_select que nous avons crée nous rend une DatFrame contenant les variables les plus corrélées (selon le niveau de corrélation précisé dans la fonction, on prend les variables corrélées au delà de ce niveau) et une liste des variables les plus corrélées."
   ]
  },
  {
   "cell_type": "code",
   "execution_count": 4,
   "metadata": {},
   "outputs": [
    {
     "name": "stdout",
     "output_type": "stream",
     "text": [
      "['lave_linge', 'Fer_à_Repasser', 'Télévision', 'Lit_pour_bébé', 'Lave_vaisselle', 'Cafetière', 'Cuisinière', 'Sèche_cheveux', 'Bébés', 'Nb_équipement', 'Prix_sans_reduc', 'Nb_Voyageurs', 'Nb_Lits', 'Nb_Salles_de_Bain', 'Studio']\n",
      "['Lave_vaisselle', 'Nb_équipement', 'Prix_sans_reduc', 'Nb_Voyageurs', 'Nb_Lits', 'Nb_Salles_de_Bain', 'Studio', 'List_nb']\n"
     ]
    }
   ],
   "source": [
    "Resultat_Clean_Base=corr_select(Clean_Base,Var=\"Prix_sans_reduc\",corr=0.2)\n",
    "\n",
    "Resultat_Clean_Base_plus_acp=corr_select(Clean_Base_plus_acp,Var=\"Prix_sans_reduc\",corr=0.3)\n",
    "\n",
    "\n",
    "Basic_df_corr_selected=Resultat_Clean_Base[0]\n",
    "Basic_list_corr=Resultat_Clean_Base[1]\n",
    "\n",
    "\n",
    "ACP_df_corr_selected=Resultat_Clean_Base_plus_acp[0]\n",
    "ACP_list_corr=Resultat_Clean_Base_plus_acp[1]\n",
    "\n",
    "print(Basic_list_corr)\n",
    "\n",
    "print(ACP_list_corr)"
   ]
  },
  {
   "cell_type": "markdown",
   "metadata": {},
   "source": [
    "## 5.3) Sélection par P-value\n",
    "\n",
    "Toujours dans le but de trouver des variables intéressantes, nous utilisons ici stats model et testonn toutes les variables présente s dans la base indiquée. Nous affichons ensuite les variables triées par significativité."
   ]
  },
  {
   "cell_type": "code",
   "execution_count": 5,
   "metadata": {
    "scrolled": true
   },
   "outputs": [
    {
     "name": "stdout",
     "output_type": "stream",
     "text": [
      "Nb_Voyageurs                             4.473211e-46\n",
      "Nb_Salles_de_Bain                        3.637855e-17\n",
      "Jardin                                   1.815755e-05\n",
      "coté                                     5.875264e-05\n",
      "Annulation_gratuite_pendant_48_heures    1.069737e-04\n",
      "Annulation_gratuite_longue               2.460499e-04\n",
      "Lave_vaisselle                           9.257754e-04\n",
      "Note                                     9.294789e-04\n",
      "Nb_comments                              1.951732e-03\n",
      "Détecteur_de_fumée                       3.440163e-03\n",
      "Kit_de_premiers_secours                  8.613873e-03\n",
      "Superhost_list                           1.067289e-02\n",
      "Nb_Lits                                  1.112722e-02\n",
      "Hôte_expérimenté                         1.154361e-02\n",
      "Jacuzzi                                  1.625775e-02\n",
      "Logement_Entier                          1.984050e-02\n",
      "Nb_équipement                            2.048462e-02\n",
      "Extincteur                               2.342788e-02\n",
      "Arrivée_irréprochable                    2.535617e-02\n",
      "Entrée_privée                            3.039564e-02\n",
      "dtype: float64\n",
      "Nb_Voyageurs                             1.196288e-25\n",
      "Nb_Salles_de_Bain                        3.623925e-14\n",
      "List_nb                                  7.104113e-08\n",
      "Jardin                                   8.722460e-06\n",
      "Note                                     1.076331e-04\n",
      "coté                                     3.583008e-04\n",
      "Annulation_gratuite_pendant_48_heures    3.961330e-04\n",
      "Détecteur_de_fumée                       9.541391e-04\n",
      "Annulation_gratuite_longue               9.943097e-04\n",
      "Logement_Entier                          1.403180e-03\n",
      "Lave_vaisselle                           1.711776e-03\n",
      "Nb_comments                              1.754844e-03\n",
      "Superhost_list                           5.166936e-03\n",
      "Parking_gratuit                          5.372320e-03\n",
      "Arrivée_irréprochable                    9.437880e-03\n",
      "Nb_équipement                            1.259759e-02\n",
      "Acceuil_Personnel                        2.062410e-02\n",
      "Entrée_privée                            3.156268e-02\n",
      "Idéalement_situé                         3.710416e-02\n",
      "Extincteur                               4.018828e-02\n",
      "dtype: float64\n"
     ]
    }
   ],
   "source": [
    "All_Variables=Clean_Base.columns.astype(list)\n",
    "All_Variables_X=All_Variables.drop(['Prix_sans_reduc','Prix_reduc'])\n",
    "\n",
    "All_Variables_acp=Clean_Base_plus_acp.columns.astype(list)\n",
    "All_Variables_X_acp=All_Variables_acp.drop(['Prix_sans_reduc','Prix_reduc'])\n",
    "\n",
    "\n",
    "P_values=pvalue_select(Clean_Base,X=All_Variables_X)\n",
    "P_values_acp=pvalue_select(Clean_Base_plus_acp,X=All_Variables_X_acp)\n",
    "\n",
    "P_values.drop([\"const\"],inplace=True)\n",
    "P_values_acp.drop([\"const\"],inplace=True)\n",
    "\n",
    "P_values.sort_values(ascending=True, inplace=True)\n",
    "print(P_values.head(20))\n",
    "\n",
    "P_values_acp.sort_values(ascending=True, inplace=True)\n",
    "print(P_values_acp.head(20))\n",
    "\n"
   ]
  },
  {
   "cell_type": "code",
   "execution_count": 6,
   "metadata": {},
   "outputs": [],
   "source": [
    "P_value_Base=Clean_Base[P_values.index[0:10]]\n",
    "\n",
    "P_value_ACP_Base=Clean_Base_plus_acp[P_values_acp.index[0:10]]"
   ]
  },
  {
   "cell_type": "markdown",
   "metadata": {},
   "source": [
    "## 5.4) Sélection par RFE\n",
    "\n",
    "Enfin, une autre façon de sélectionner des variables est d'utiliser la RFE. Dans cette fonction on peut indiquer le modèle utilisé pour la RFE (\"LinearRegression\",\"DecisionTreeRegressor\",\"RandomForestRegressor\" ou \"LinearSVR\"). On indique également le nombre de variables souhaitées et la base."
   ]
  },
  {
   "cell_type": "code",
   "execution_count": 7,
   "metadata": {
    "scrolled": true
   },
   "outputs": [
    {
     "name": "stderr",
     "output_type": "stream",
     "text": [
      "C:\\Users\\Yanis\\anaconda3\\lib\\site-packages\\sklearn\\utils\\validation.py:760: DataConversionWarning: A column-vector y was passed when a 1d array was expected. Please change the shape of y to (n_samples, ), for example using ravel().\n",
      "  y = column_or_1d(y, warn=True)\n",
      "C:\\Users\\Yanis\\anaconda3\\lib\\site-packages\\sklearn\\utils\\validation.py:760: DataConversionWarning: A column-vector y was passed when a 1d array was expected. Please change the shape of y to (n_samples, ), for example using ravel().\n",
      "  y = column_or_1d(y, warn=True)\n"
     ]
    },
    {
     "name": "stdout",
     "output_type": "stream",
     "text": [
      "Index(['Note', 'Logement_Entier', 'Hôte_expérimenté', 'Superhost_list',\n",
      "       'Wi-Fi', 'Parking_payant', 'Chargeur_EV', 'Jacuzzi', 'Cuisine', 'four',\n",
      "       'Lave_vaisselle', 'Cafetière', 'Ustensiles_de_cuisine_de_base',\n",
      "       'Acceuil_Personnel', 'Jardin', 'Extincteur', 'Nb_Voyageurs', 'Nb_Lits',\n",
      "       'Nb_Salles_de_Bain', 'Prix_sans_reduc'],\n",
      "      dtype='object')\n",
      "Index(['Note', 'Logement_Entier', 'Arrivée_irréprochable', 'Superhost_list',\n",
      "       'Wi-Fi', 'Lit_pour_bébé', 'Parking_gratuit', 'Jacuzzi', 'Cuisine',\n",
      "       'four', 'Lave_vaisselle', 'Cafetière', 'Ustensiles_de_cuisine_de_base',\n",
      "       'Acceuil_Personnel', 'Salon_privé', 'Jardin', 'Extincteur',\n",
      "       'Nb_Voyageurs', 'Nb_Lits', 'Prix_sans_reduc'],\n",
      "      dtype='object')\n"
     ]
    }
   ],
   "source": [
    "Base_RFE=rfe_select (Base=Clean_Base, nb_var=20, model=\"LinearRegression\")\n",
    "Base_RFE_ACP=rfe_select (Base=Clean_Base_plus_acp, nb_var=20, model=\"LinearRegression\")\n",
    "\n",
    "print(Base_RFE.columns)\n",
    "print(Base_RFE_ACP.columns)"
   ]
  },
  {
   "cell_type": "markdown",
   "metadata": {},
   "source": [
    "# 6) Modélisation "
   ]
  },
  {
   "cell_type": "markdown",
   "metadata": {},
   "source": [
    "## 6.1) Indicateur de performance sur différents modèles \n",
    "\n",
    "Pour la modélisation, on a comparé dans un premier temps les RMSE issues de la cross validation de plusieurs modèles. La fonction ci dessous nous indique les RMSE moyennes pour les modeles suivants : régression linéaire, arbre de décision, random forest, SVM linéaire et SVM polynomial."
   ]
  },
  {
   "cell_type": "code",
   "execution_count": 8,
   "metadata": {},
   "outputs": [
    {
     "name": "stdout",
     "output_type": "stream",
     "text": [
      "LiR: 27.836942 (2.080079)\n",
      "DTR: 39.871937 (2.944525)\n",
      "RDF: 29.049918 (1.979575)\n",
      "SVM: 28.575318 (2.014332)\n",
      "SVR: 36.649379 (3.450931)\n"
     ]
    }
   ],
   "source": [
    "Clean_Base.drop(['Prix_reduc'],axis=1,inplace=True)\n",
    "modelisation(Clean_Base)"
   ]
  },
  {
   "cell_type": "code",
   "execution_count": 9,
   "metadata": {},
   "outputs": [
    {
     "name": "stdout",
     "output_type": "stream",
     "text": [
      "LiR: 27.286693 (1.513712)\n",
      "DTR: 39.331085 (3.374562)\n",
      "RDF: 28.354743 (1.741343)\n",
      "SVM: 28.067786 (1.860659)\n",
      "SVR: 34.676661 (2.796816)\n"
     ]
    }
   ],
   "source": [
    "Clean_Base_plus_acp.drop(['Prix_reduc'],axis=1,inplace=True)\n",
    "modelisation(Clean_Base_plus_acp)"
   ]
  },
  {
   "cell_type": "code",
   "execution_count": 10,
   "metadata": {},
   "outputs": [
    {
     "name": "stdout",
     "output_type": "stream",
     "text": [
      "LiR: 34.172508 (2.818248)\n",
      "DTR: 48.858917 (2.190641)\n",
      "RDF: 38.235704 (2.338898)\n",
      "SVM: 35.391979 (2.568066)\n",
      "SVR: 41.803907 (3.920369)\n"
     ]
    }
   ],
   "source": [
    "modelisation(Clean_Base_only_acp)"
   ]
  },
  {
   "cell_type": "code",
   "execution_count": 11,
   "metadata": {},
   "outputs": [
    {
     "name": "stdout",
     "output_type": "stream",
     "text": [
      "LiR: 28.238760 (1.453340)\n",
      "DTR: 39.339255 (2.672288)\n",
      "RDF: 32.307376 (2.028051)\n",
      "SVM: 29.034316 (1.790081)\n",
      "SVR: 33.761286 (1.629750)\n"
     ]
    }
   ],
   "source": [
    "modelisation(ACP_df_corr_selected)"
   ]
  },
  {
   "cell_type": "markdown",
   "metadata": {},
   "source": [
    "## 6.2) Regression Linéaire\n",
    "\n",
    "Les résultats que nous trouvons les plus intéressants concernent le modèle de régression linéaire. Nous décidons de mettre en oeuvre cette régression pour prédir le prix"
   ]
  },
  {
   "cell_type": "markdown",
   "metadata": {},
   "source": [
    "## 6.2.1) Modèle complet"
   ]
  },
  {
   "cell_type": "code",
   "execution_count": 13,
   "metadata": {
    "scrolled": true
   },
   "outputs": [
    {
     "name": "stdout",
     "output_type": "stream",
     "text": [
      "Rmse =26.381086314497033\n",
      "                            OLS Regression Results                            \n",
      "==============================================================================\n",
      "Dep. Variable:        Prix_sans_reduc   R-squared:                       0.654\n",
      "Model:                            OLS   Adj. R-squared:                  0.638\n",
      "Method:                 Least Squares   F-statistic:                     40.55\n",
      "Date:                Sat, 06 Jun 2020   Prob (F-statistic):          1.39e-297\n",
      "Time:                        23:16:03   Log-Likelihood:                -7483.1\n",
      "No. Observations:                1595   AIC:                         1.511e+04\n",
      "Df Residuals:                    1523   BIC:                         1.550e+04\n",
      "Df Model:                          71                                         \n",
      "Covariance Type:            nonrobust                                         \n",
      "=========================================================================================================\n",
      "                                            coef    std err          t      P>|t|      [0.025      0.975]\n",
      "---------------------------------------------------------------------------------------------------------\n",
      "const                                   -59.5692     15.551     -3.831      0.000     -90.073     -29.065\n",
      "Note                                      9.6859      2.920      3.318      0.001       3.959      15.413\n",
      "Logement_Entier                           9.6430      4.135      2.332      0.020       1.531      17.755\n",
      "Arrivée_irréprochable                    -5.7802      2.583     -2.238      0.025     -10.846      -0.714\n",
      "Hôte_expérimenté                          7.6652      3.031      2.529      0.012       1.720      13.611\n",
      "Excellente_communication                 -2.5633      3.655     -0.701      0.483      -9.734       4.607\n",
      "Accueil_unique                           -1.9991      4.060     -0.492      0.622      -9.962       5.964\n",
      "Parfaitement_propre                       0.3346      1.477      0.227      0.821      -2.563       3.232\n",
      "Propre et rangé                           1.8375      1.418      1.296      0.195      -0.943       4.618\n",
      "Idéalement_situé                          2.9724      2.010      1.479      0.139      -0.971       6.915\n",
      "Annulation_gratuite_pendant_48_heures     7.4726      1.924      3.884      0.000       3.699      11.246\n",
      "Annulation_gratuite_longue                7.0766      1.926      3.675      0.000       3.300      10.854\n",
      "Arrivée_autonome                         -5.6733      3.947     -1.437      0.151     -13.415       2.069\n",
      "Superhost_list                            5.0286      1.967      2.556      0.011       1.170       8.887\n",
      "Wi-Fi                                     5.0966      3.718      1.371      0.171      -2.196      12.389\n",
      "WiFi_portable                            -3.9844      2.735     -1.457      0.145      -9.350       1.381\n",
      "lave_linge                                1.5988      1.899      0.842      0.400      -2.125       5.323\n",
      " Espace_travail_ordi                     -1.2255      1.810     -0.677      0.498      -4.776       2.324\n",
      "Equipement_base                          -4.4364      4.908     -0.904      0.366     -14.064       5.192\n",
      "Chauffage                                 0.5516      4.669      0.118      0.906      -8.607       9.710\n",
      "Fer_à_Repasser                            0.0674      2.039      0.033      0.974      -3.933       4.068\n",
      "Télévision                                1.5435      1.910      0.808      0.419      -2.202       5.289\n",
      "Eau_chaude                               -0.1914      2.238     -0.086      0.932      -4.581       4.199\n",
      "Table_à_langer                        -9.219e-15    7.1e-15     -1.299      0.194   -2.31e-14     4.7e-15\n",
      "Chaise_haute                             -2.3007      3.197     -0.720      0.472      -8.572       3.971\n",
      "Lit_pour_bébé                             2.1202      3.062      0.692      0.489      -3.887       8.127\n",
      "Livres_et_jouets_pour_enfants            -5.3260      3.509     -1.518      0.129     -12.209       1.557\n",
      "Parking_payant                            7.4455      4.174      1.784      0.075      -0.742      15.633\n",
      "Parking_gratuit                          -6.7525      3.807     -1.774      0.076     -14.219       0.714\n",
      "Chargeur_EV                              -7.1612      7.574     -0.945      0.345     -22.019       7.696\n",
      "Salle_de_sport                           -1.0828      8.168     -0.133      0.895     -17.105      14.940\n",
      "Jacuzzi                                  25.6462     10.660      2.406      0.016       4.736      46.557\n",
      "Ascenseur                                 1.2162      1.687      0.721      0.471      -2.093       4.526\n",
      "Piscine                                4.663e-16   5.07e-15      0.092      0.927   -9.47e-15    1.04e-14\n",
      "Cuisine                                  -7.0558      4.362     -1.617      0.106     -15.612       1.501\n",
      "Réfrigérateur                            -5.3167      3.630     -1.465      0.143     -12.437       1.803\n",
      "Vaisselle_et_couverts                    -1.3140      3.224     -0.408      0.684      -7.637       5.009\n",
      "Four_à_micro_ondes                       -1.8179      2.418     -0.752      0.452      -6.561       2.925\n",
      "Petit_déjeuner                           -4.3496      2.680     -1.623      0.105      -9.607       0.908\n",
      "four                                     -6.1792      3.460     -1.786      0.074     -12.967       0.608\n",
      "Lave_vaisselle                            6.6314      1.998      3.319      0.001       2.712      10.551\n",
      "Cafetière                                 4.3480      2.266      1.919      0.055      -0.096       8.792\n",
      "Cuisinière                                1.0958      2.092      0.524      0.601      -3.009       5.200\n",
      "Ustensiles_de_cuisine_de_base             5.0716      2.714      1.869      0.062      -0.252      10.396\n",
      "Acceuil_Personnel                         9.9395      5.127      1.938      0.053      -0.118      19.997\n",
      "Entrée_privée                             3.8030      1.755      2.167      0.030       0.360       7.246\n",
      "Salon_privé                               8.1301      9.339      0.871      0.384     -10.189      26.449\n",
      "Boîte_à_clé_sécurisée                     5.5940      4.196      1.333      0.183      -2.637      13.825\n",
      "Clés_remises_par_hôte                 -9.903e-15   5.65e-15     -1.754      0.080    -2.1e-14    1.17e-15\n",
      "Jardin                                  -12.8483      2.988     -4.300      0.000     -18.709      -6.987\n",
      "Sèche_cheveux                             2.1324      2.182      0.977      0.329      -2.148       6.413\n",
      "Cintres                                  -1.2698      2.336     -0.544      0.587      -5.851       3.311\n",
      "Shampooing                                2.8078      1.740      1.614      0.107      -0.604       6.220\n",
      "Gel_douche                                0.2507      2.286      0.110      0.913      -4.234       4.735\n",
      "Oreillers_et_couvertures                 -3.1720      2.174     -1.459      0.145      -7.437       1.093\n",
      "Draps                                    -2.8488      2.114     -1.347      0.178      -6.996       1.299\n",
      "Porte_de_la_chambre_avec_verrou          -6.3515      6.924     -0.917      0.359     -19.934       7.231\n",
      "Dépôt_de_bagages_autorisé                -0.4666      2.201     -0.212      0.832      -4.783       3.850\n",
      "Séjours_longue_durée_autorisé            -2.7041      1.916     -1.412      0.158      -6.461       1.053\n",
      "Détecteur_de_fumée                       -6.0937      2.080     -2.930      0.003     -10.173      -2.014\n",
      "Détecteur_de_monoxyde_de_carbone          0.9386      1.732      0.542      0.588      -2.458       4.335\n",
      "Extincteur                                4.7524      2.095      2.269      0.023       0.643       8.861\n",
      "Kit_de_premiers_secours                  -5.7369      2.181     -2.630      0.009     -10.015      -1.459\n",
      "Fête                                      0.1681      2.494      0.067      0.946      -4.723       5.059\n",
      "Fumeur                                   -3.6393      2.405     -1.513      0.130      -8.357       1.078\n",
      "Animaux                                   3.7306      2.121      1.759      0.079      -0.431       7.892\n",
      "Bébés                                     1.3695      1.769      0.774      0.439      -2.099       4.838\n",
      "Nb_équipement                             1.0817      0.466      2.320      0.020       0.167       1.996\n",
      "Nb_comments                               0.0303      0.010      3.103      0.002       0.011       0.049\n",
      "Nb_Voyageurs                             11.5304      0.782     14.741      0.000       9.996      13.065\n",
      "Nb_Lits                                   2.6538      1.044      2.542      0.011       0.606       4.702\n",
      "Nb_Salles_de_Bain                        17.0356      1.998      8.525      0.000      13.116      20.955\n",
      "coté                                      5.8132      1.443      4.029      0.000       2.983       8.643\n",
      "parking                                  -7.3802      4.403     -1.676      0.094     -16.016       1.256\n",
      "propre,rangé                              2.1721      1.108      1.960      0.050      -0.002       4.346\n",
      "Studio                                   -2.3891      1.837     -1.300      0.194      -5.993       1.215\n",
      "==============================================================================\n",
      "Omnibus:                      177.612   Durbin-Watson:                   1.863\n",
      "Prob(Omnibus):                  0.000   Jarque-Bera (JB):              316.418\n",
      "Skew:                           0.735   Prob(JB):                     1.95e-69\n",
      "Kurtosis:                       4.612   Cond. No.                     1.32e+16\n",
      "==============================================================================\n",
      "\n",
      "Warnings:\n",
      "[1] Standard Errors assume that the covariance matrix of the errors is correctly specified.\n",
      "[2] The smallest eigenvalue is 8.55e-26. This might indicate that there are\n",
      "strong multicollinearity problems or that the design matrix is singular.\n"
     ]
    }
   ],
   "source": [
    "import statsmodels.api as sm\n",
    "from statsmodels.tools.eval_measures import rmse\n",
    "\n",
    "Test=Clean_Base.copy()\n",
    "\n",
    "try:\n",
    "    Test.drop(['Prix_reduc'],axis=1,inplace=True)\n",
    "except:\n",
    "    pass\n",
    "\n",
    "y=Test[\"Prix_sans_reduc\"]\n",
    "x=Test.drop([\"Prix_sans_reduc\"],axis=1)\n",
    "x=sm.add_constant(x)\n",
    "model=sm.OLS(y,x)\n",
    "results = model.fit()\n",
    "results.summary()\n",
    "ypred=results.predict(x)\n",
    "\n",
    "rmse=rmse(y, ypred)\n",
    "\n",
    "print(\"Rmse =\"+str(rmse))\n",
    "print(results.summary())"
   ]
  },
  {
   "cell_type": "markdown",
   "metadata": {},
   "source": [
    "## 6.2.2) Modèle complet plus ACP"
   ]
  },
  {
   "cell_type": "code",
   "execution_count": 14,
   "metadata": {},
   "outputs": [
    {
     "name": "stdout",
     "output_type": "stream",
     "text": [
      "Rmse =25.550754053218935\n",
      "                            OLS Regression Results                            \n",
      "==============================================================================\n",
      "Dep. Variable:        Prix_sans_reduc   R-squared:                       0.638\n",
      "Model:                            OLS   Adj. R-squared:                  0.620\n",
      "Method:                 Least Squares   F-statistic:                     33.81\n",
      "Date:                Sat, 06 Jun 2020   Prob (F-statistic):          1.16e-269\n",
      "Time:                        23:16:20   Log-Likelihood:                -7231.7\n",
      "No. Observations:                1552   AIC:                         1.462e+04\n",
      "Df Residuals:                    1474   BIC:                         1.504e+04\n",
      "Df Model:                          77                                         \n",
      "Covariance Type:            nonrobust                                         \n",
      "=========================================================================================================\n",
      "                                            coef    std err          t      P>|t|      [0.025      0.975]\n",
      "---------------------------------------------------------------------------------------------------------\n",
      "const                                   -56.8107     15.511     -3.663      0.000     -87.238     -26.384\n",
      "Note                                     11.3757      2.929      3.883      0.000       5.629      17.122\n",
      "Logement_Entier                          13.1540      4.111      3.200      0.001       5.091      21.217\n",
      "Arrivée_irréprochable                    -6.5979      2.538     -2.599      0.009     -11.577      -1.619\n",
      "Hôte_expérimenté                          3.7651      3.099      1.215      0.225      -2.314       9.844\n",
      "Excellente_communication                 -3.3482      3.606     -0.928      0.353     -10.422       3.725\n",
      "Accueil_unique                            0.3618      4.000      0.090      0.928      -7.484       8.208\n",
      "Parfaitement_propre                       0.5149      1.439      0.358      0.721      -2.309       3.338\n",
      "Propre et rangé                           1.4160      1.394      1.015      0.310      -1.319       4.151\n",
      "Idéalement_situé                          4.0962      1.963      2.087      0.037       0.245       7.947\n",
      "Annulation_gratuite_pendant_48_heures     6.7036      1.888      3.551      0.000       3.000      10.407\n",
      "Annulation_gratuite_longue                6.2657      1.899      3.299      0.001       2.540       9.991\n",
      "Arrivée_autonome                         -6.0423      3.884     -1.556      0.120     -13.660       1.576\n",
      "Superhost_list                            5.4382      1.942      2.801      0.005       1.629       9.247\n",
      "Wi-Fi                                     4.8167      3.642      1.323      0.186      -2.327      11.961\n",
      "WiFi_portable                            -4.7980      2.711     -1.770      0.077     -10.116       0.520\n",
      "lave_linge                                1.7780      1.868      0.952      0.341      -1.886       5.442\n",
      " Espace_travail_ordi                     -0.7165      1.788     -0.401      0.689      -4.223       2.790\n",
      "Equipement_base                          -4.2861      4.875     -0.879      0.379     -13.849       5.277\n",
      "Chauffage                                 0.0859      4.675      0.018      0.985      -9.085       9.257\n",
      "Fer_à_Repasser                            0.7946      2.008      0.396      0.692      -3.143       4.733\n",
      "Télévision                                1.4043      1.883      0.746      0.456      -2.289       5.098\n",
      "Eau_chaude                               -1.1008      2.214     -0.497      0.619      -5.444       3.242\n",
      "Table_à_langer                         2.535e-15   7.72e-15      0.328      0.743   -1.26e-14    1.77e-14\n",
      "Chaise_haute                             -3.4344      3.207     -1.071      0.284      -9.726       2.857\n",
      "Lit_pour_bébé                             3.2782      3.125      1.049      0.294      -2.852       9.408\n",
      "Livres_et_jouets_pour_enfants            -5.6639      3.610     -1.569      0.117     -12.746       1.418\n",
      "Parking_payant                            3.1172      4.182      0.745      0.456      -5.086      11.321\n",
      "Parking_gratuit                         -10.5466      3.783     -2.788      0.005     -17.967      -3.126\n",
      "Chargeur_EV                              -4.9657      7.642     -0.650      0.516     -19.957      10.025\n",
      "Salle_de_sport                           -2.6615      8.320     -0.320      0.749     -18.982      13.659\n",
      "Jacuzzi                                  22.3628     11.245      1.989      0.047       0.306      44.420\n",
      "Ascenseur                                 1.0953      1.664      0.658      0.510      -2.168       4.359\n",
      "Piscine                                6.709e-15   7.76e-15      0.864      0.388   -8.52e-15    2.19e-14\n",
      "Cuisine                                  -8.0521      4.260     -1.890      0.059     -16.409       0.305\n",
      "Réfrigérateur                            -5.0149      3.562     -1.408      0.159     -12.003       1.973\n",
      "Vaisselle_et_couverts                    -1.6706      3.164     -0.528      0.598      -7.876       4.535\n",
      "Four_à_micro_ondes                       -2.7111      2.363     -1.147      0.252      -7.347       1.925\n",
      "Petit_déjeuner                           -4.3868      2.666     -1.645      0.100      -9.617       0.843\n",
      "four                                     -4.8414      3.380     -1.432      0.152     -11.472       1.789\n",
      "Lave_vaisselle                            6.2105      1.977      3.142      0.002       2.333      10.088\n",
      "Cafetière                                 4.3462      2.217      1.960      0.050      -0.003       8.695\n",
      "Cuisinière                                1.2401      2.071      0.599      0.549      -2.822       5.302\n",
      "Ustensiles_de_cuisine_de_base             4.7075      2.673      1.761      0.078      -0.535       9.950\n",
      "Acceuil_Personnel                        11.6581      5.031      2.317      0.021       1.790      21.527\n",
      "Entrée_privée                             3.7372      1.737      2.152      0.032       0.331       7.144\n",
      "Salon_privé                              10.2898      9.087      1.132      0.258      -7.536      28.116\n",
      "Boîte_à_clé_sécurisée                     6.6513      4.123      1.613      0.107      -1.437      14.739\n",
      "Clés_remises_par_hôte                  3.507e-15   5.36e-15      0.655      0.513      -7e-15     1.4e-14\n",
      "Jardin                                  -13.3093      2.983     -4.462      0.000     -19.160      -7.459\n",
      "Sèche_cheveux                             1.1642      2.145      0.543      0.587      -3.043       5.371\n",
      "Cintres                                  -0.6806      2.304     -0.295      0.768      -5.200       3.839\n",
      "Shampooing                                1.4775      1.724      0.857      0.392      -1.905       4.860\n",
      "Gel_douche                                0.6880      2.252      0.306      0.760      -3.730       5.106\n",
      "Oreillers_et_couvertures                 -2.7998      2.161     -1.296      0.195      -7.038       1.438\n",
      "Draps                                    -3.5189      2.075     -1.696      0.090      -7.590       0.552\n",
      "Porte_de_la_chambre_avec_verrou          -3.3946      6.755     -0.502      0.615     -16.646       9.857\n",
      "Dépôt_de_bagages_autorisé                -0.3555      2.181     -0.163      0.871      -4.635       3.923\n",
      "Séjours_longue_durée_autorisé            -1.7161      1.899     -0.904      0.366      -5.441       2.009\n",
      "Détecteur_de_fumée                       -6.7885      2.051     -3.310      0.001     -10.811      -2.766\n",
      "Détecteur_de_monoxyde_de_carbone          1.4607      1.716      0.851      0.395      -1.906       4.827\n",
      "Extincteur                                4.2896      2.089      2.054      0.040       0.192       8.387\n",
      "Kit_de_premiers_secours                  -4.4018      2.162     -2.036      0.042      -8.643      -0.161\n",
      "Fête                                     -0.1838      2.454     -0.075      0.940      -4.998       4.631\n",
      "Fumeur                                   -3.8933      2.383     -1.633      0.103      -8.569       0.782\n",
      "Animaux                                   3.2600      2.105      1.548      0.122      -0.870       7.390\n",
      "Bébés                                     1.4574      1.727      0.844      0.399      -1.930       4.845\n",
      "Nb_équipement                             1.1650      0.466      2.498      0.013       0.250       2.080\n",
      "Nb_comments                               0.0300      0.010      3.135      0.002       0.011       0.049\n",
      "Nb_Voyageurs                              9.2801      0.870     10.669      0.000       7.574      10.986\n",
      "Nb_Lits                                   1.5665      1.116      1.404      0.161      -0.622       3.755\n",
      "Nb_Salles_de_Bain                        15.5014      2.026      7.649      0.000      11.526      19.477\n",
      "coté                                      5.0763      1.419      3.577      0.000       2.293       7.860\n",
      "parking                                  -3.2485      4.393     -0.739      0.460     -11.866       5.369\n",
      "propre,rangé                              1.9309      1.087      1.776      0.076      -0.201       4.063\n",
      "Studio                                   -2.8918      1.795     -1.611      0.107      -6.413       0.630\n",
      "Cuisine1                                  0.1203      0.317      0.380      0.704      -0.501       0.741\n",
      "Secu1                                    -0.5392      0.536     -1.007      0.314      -1.590       0.511\n",
      "Host1                                     0.2101      0.617      0.340      0.734      -1.001       1.421\n",
      "Bébé1                                     0.5317      0.561      0.947      0.344      -0.570       1.633\n",
      "Luxe1                                     0.4104      0.737      0.557      0.578      -1.036       1.856\n",
      "List_nb                                   3.9044      0.721      5.416      0.000       2.490       5.318\n",
      "==============================================================================\n",
      "Omnibus:                      178.598   Durbin-Watson:                   1.912\n",
      "Prob(Omnibus):                  0.000   Jarque-Bera (JB):              306.109\n",
      "Skew:                           0.770   Prob(JB):                     3.38e-67\n",
      "Kurtosis:                       4.538   Cond. No.                     1.32e+16\n",
      "==============================================================================\n",
      "\n",
      "Warnings:\n",
      "[1] Standard Errors assume that the covariance matrix of the errors is correctly specified.\n",
      "[2] The smallest eigenvalue is 8.51e-26. This might indicate that there are\n",
      "strong multicollinearity problems or that the design matrix is singular.\n"
     ]
    }
   ],
   "source": [
    "import statsmodels.api as sm\n",
    "from statsmodels.tools.eval_measures import rmse\n",
    "\n",
    "Test=Clean_Base_plus_acp.copy()\n",
    "\n",
    "try:\n",
    "    Test.drop(['Prix_reduc'],axis=1,inplace=True)\n",
    "except:\n",
    "    pass\n",
    "\n",
    "y=Test[\"Prix_sans_reduc\"]\n",
    "x=Test.drop([\"Prix_sans_reduc\"],axis=1)\n",
    "x=sm.add_constant(x)\n",
    "model=sm.OLS(y,x)\n",
    "results = model.fit()\n",
    "results.summary()\n",
    "ypred=results.predict(x)\n",
    "\n",
    "rmse=rmse(y, ypred)\n",
    "\n",
    "print(\"Rmse =\"+str(rmse))\n",
    "print(results.summary())"
   ]
  },
  {
   "cell_type": "markdown",
   "metadata": {},
   "source": [
    "## 6.2.3) Modèle juste ACP"
   ]
  },
  {
   "cell_type": "code",
   "execution_count": 15,
   "metadata": {},
   "outputs": [
    {
     "name": "stdout",
     "output_type": "stream",
     "text": [
      "Rmse =34.56351559866377\n",
      "                            OLS Regression Results                            \n",
      "==============================================================================\n",
      "Dep. Variable:        Prix_sans_reduc   R-squared:                       0.338\n",
      "Model:                            OLS   Adj. R-squared:                  0.336\n",
      "Method:                 Least Squares   F-statistic:                     131.7\n",
      "Date:                Sat, 06 Jun 2020   Prob (F-statistic):          8.20e-135\n",
      "Time:                        23:16:31   Log-Likelihood:                -7700.6\n",
      "No. Observations:                1552   AIC:                         1.542e+04\n",
      "Df Residuals:                    1545   BIC:                         1.545e+04\n",
      "Df Model:                           6                                         \n",
      "Covariance Type:            nonrobust                                         \n",
      "==============================================================================\n",
      "                 coef    std err          t      P>|t|      [0.025      0.975]\n",
      "------------------------------------------------------------------------------\n",
      "const         82.4654      0.881     93.619      0.000      80.738      84.193\n",
      "Cuisine1      -0.6238      0.406     -1.537      0.124      -1.420       0.172\n",
      "Secu1         -0.7469      0.693     -1.077      0.281      -2.107       0.613\n",
      "Host1         -0.8541      0.796     -1.073      0.283      -2.415       0.707\n",
      "Bébé1          2.1799      0.720      3.027      0.003       0.767       3.593\n",
      "Luxe1          1.8486      0.948      1.950      0.051      -0.011       3.708\n",
      "List_nb       16.3007      0.677     24.077      0.000      14.973      17.629\n",
      "==============================================================================\n",
      "Omnibus:                      222.525   Durbin-Watson:                   1.814\n",
      "Prob(Omnibus):                  0.000   Jarque-Bera (JB):              449.081\n",
      "Skew:                           0.861   Prob(JB):                     3.04e-98\n",
      "Kurtosis:                       4.996   Cond. No.                         2.53\n",
      "==============================================================================\n",
      "\n",
      "Warnings:\n",
      "[1] Standard Errors assume that the covariance matrix of the errors is correctly specified.\n"
     ]
    }
   ],
   "source": [
    "import statsmodels.api as sm\n",
    "from statsmodels.tools.eval_measures import rmse\n",
    "\n",
    "Test=Clean_Base_only_acp.copy()\n",
    "\n",
    "try:\n",
    "    Test.drop(['Prix_reduc'],axis=1,inplace=True)\n",
    "except:\n",
    "    pass\n",
    "\n",
    "y=Test[\"Prix_sans_reduc\"]\n",
    "x=Test.drop([\"Prix_sans_reduc\"],axis=1)\n",
    "x=sm.add_constant(x)\n",
    "model=sm.OLS(y,x)\n",
    "results = model.fit()\n",
    "results.summary()\n",
    "ypred=results.predict(x)\n",
    "\n",
    "rmse=rmse(y, ypred)\n",
    "\n",
    "print(\"Rmse =\"+str(rmse))\n",
    "print(results.summary())"
   ]
  },
  {
   "cell_type": "markdown",
   "metadata": {},
   "source": [
    "## 6.2.4) Modèle Corr-select"
   ]
  },
  {
   "cell_type": "code",
   "execution_count": 16,
   "metadata": {
    "scrolled": true
   },
   "outputs": [
    {
     "name": "stdout",
     "output_type": "stream",
     "text": [
      "Rmse =28.779308730346596\n",
      "                            OLS Regression Results                            \n",
      "==============================================================================\n",
      "Dep. Variable:        Prix_sans_reduc   R-squared:                       0.588\n",
      "Model:                            OLS   Adj. R-squared:                  0.585\n",
      "Method:                 Least Squares   F-statistic:                     161.2\n",
      "Date:                Sat, 06 Jun 2020   Prob (F-statistic):          5.03e-292\n",
      "Time:                        23:16:36   Log-Likelihood:                -7621.9\n",
      "No. Observations:                1595   AIC:                         1.527e+04\n",
      "Df Residuals:                    1580   BIC:                         1.535e+04\n",
      "Df Model:                          14                                         \n",
      "Covariance Type:            nonrobust                                         \n",
      "=====================================================================================\n",
      "                        coef    std err          t      P>|t|      [0.025      0.975]\n",
      "-------------------------------------------------------------------------------------\n",
      "const                -3.9972      3.474     -1.151      0.250     -10.811       2.817\n",
      "lave_linge            0.9554      1.828      0.523      0.601      -2.630       4.540\n",
      "Fer_à_Repasser        3.3692      2.071      1.627      0.104      -0.693       7.432\n",
      "Télévision            6.9001      1.808      3.816      0.000       3.353      10.447\n",
      "Lit_pour_bébé         3.3227      2.834      1.172      0.241      -2.236       8.882\n",
      "Lave_vaisselle        8.8737      1.900      4.671      0.000       5.148      12.600\n",
      "Cafetière             3.2177      1.998      1.610      0.108      -0.702       7.138\n",
      "Cuisinière            2.4014      1.848      1.299      0.194      -1.224       6.027\n",
      "Sèche_cheveux         7.7026      2.195      3.510      0.000       3.398      12.007\n",
      "Bébés                 1.3104      1.780      0.736      0.462      -2.180       4.801\n",
      "Nb_équipement        -0.1040      0.157     -0.664      0.507      -0.411       0.203\n",
      "Nb_Voyageurs         11.8552      0.795     14.916      0.000      10.296      13.414\n",
      "Nb_Lits               1.2700      1.085      1.170      0.242      -0.859       3.399\n",
      "Nb_Salles_de_Bain    18.8673      2.072      9.106      0.000      14.803      22.931\n",
      "Studio               -1.8834      1.871     -1.007      0.314      -5.553       1.786\n",
      "==============================================================================\n",
      "Omnibus:                      205.458   Durbin-Watson:                   1.908\n",
      "Prob(Omnibus):                  0.000   Jarque-Bera (JB):              391.104\n",
      "Skew:                           0.806   Prob(JB):                     1.18e-85\n",
      "Kurtosis:                       4.814   Cond. No.                         126.\n",
      "==============================================================================\n",
      "\n",
      "Warnings:\n",
      "[1] Standard Errors assume that the covariance matrix of the errors is correctly specified.\n"
     ]
    }
   ],
   "source": [
    "import statsmodels.api as sm\n",
    "from statsmodels.tools.eval_measures import rmse\n",
    "\n",
    "Test=Basic_df_corr_selected.copy()\n",
    "\n",
    "try:\n",
    "    Test.drop(['Prix_reduc'],axis=1,inplace=True)\n",
    "except:\n",
    "    pass\n",
    "\n",
    "y=Test[\"Prix_sans_reduc\"]\n",
    "x=Test.drop([\"Prix_sans_reduc\"],axis=1)\n",
    "x=sm.add_constant(x)\n",
    "model=sm.OLS(y,x)\n",
    "results = model.fit()\n",
    "results.summary()\n",
    "ypred=results.predict(x)\n",
    "\n",
    "rmse=rmse(y, ypred)\n",
    "\n",
    "print(\"Rmse =\"+str(rmse))\n",
    "print(results.summary())"
   ]
  },
  {
   "cell_type": "markdown",
   "metadata": {},
   "source": [
    "## 6.2.5) Modèle Corr select plus ACP"
   ]
  },
  {
   "cell_type": "code",
   "execution_count": 17,
   "metadata": {
    "scrolled": true
   },
   "outputs": [
    {
     "name": "stdout",
     "output_type": "stream",
     "text": [
      "Rmse =28.479512783125735\n",
      "                            OLS Regression Results                            \n",
      "==============================================================================\n",
      "Dep. Variable:        Prix_sans_reduc   R-squared:                       0.551\n",
      "Model:                            OLS   Adj. R-squared:                  0.549\n",
      "Method:                 Least Squares   F-statistic:                     270.5\n",
      "Date:                Sat, 06 Jun 2020   Prob (F-statistic):          4.92e-263\n",
      "Time:                        23:16:42   Log-Likelihood:                -7400.1\n",
      "No. Observations:                1552   AIC:                         1.482e+04\n",
      "Df Residuals:                    1544   BIC:                         1.486e+04\n",
      "Df Model:                           7                                         \n",
      "Covariance Type:            nonrobust                                         \n",
      "=====================================================================================\n",
      "                        coef    std err          t      P>|t|      [0.025      0.975]\n",
      "-------------------------------------------------------------------------------------\n",
      "const                11.2278      3.453      3.251      0.001       4.454      18.002\n",
      "Lave_vaisselle        8.3911      1.867      4.493      0.000       4.728      12.054\n",
      "Nb_équipement         0.5043      0.108      4.689      0.000       0.293       0.715\n",
      "Nb_Voyageurs         11.1425      0.867     12.852      0.000       9.442      12.843\n",
      "Nb_Lits              -0.5447      1.158     -0.470      0.638      -2.817       1.727\n",
      "Nb_Salles_de_Bain    16.2584      2.111      7.701      0.000      12.117      20.400\n",
      "Studio               -2.2434      1.812     -1.238      0.216      -5.798       1.312\n",
      "List_nb               3.7808      0.736      5.140      0.000       2.338       5.224\n",
      "==============================================================================\n",
      "Omnibus:                      218.174   Durbin-Watson:                   1.947\n",
      "Prob(Omnibus):                  0.000   Jarque-Bera (JB):              409.705\n",
      "Skew:                           0.873   Prob(JB):                     1.08e-89\n",
      "Kurtosis:                       4.813   Cond. No.                         121.\n",
      "==============================================================================\n",
      "\n",
      "Warnings:\n",
      "[1] Standard Errors assume that the covariance matrix of the errors is correctly specified.\n"
     ]
    }
   ],
   "source": [
    "import statsmodels.api as sm\n",
    "from statsmodels.tools.eval_measures import rmse\n",
    "\n",
    "Test=ACP_df_corr_selected.copy()\n",
    "\n",
    "try:\n",
    "    Test.drop(['Prix_reduc'],axis=1,inplace=True)\n",
    "except:\n",
    "    pass\n",
    "\n",
    "y=Test[\"Prix_sans_reduc\"]\n",
    "x=Test.drop([\"Prix_sans_reduc\"],axis=1)\n",
    "x=sm.add_constant(x)\n",
    "model=sm.OLS(y,x)\n",
    "results = model.fit()\n",
    "results.summary()\n",
    "ypred=results.predict(x)\n",
    "\n",
    "rmse=rmse(y, ypred)\n",
    "\n",
    "print(\"Rmse =\"+str(rmse))\n",
    "print(results.summary())"
   ]
  },
  {
   "cell_type": "markdown",
   "metadata": {},
   "source": [
    "## 6.2.6) Modèle P-value "
   ]
  },
  {
   "cell_type": "code",
   "execution_count": 18,
   "metadata": {
    "scrolled": true
   },
   "outputs": [
    {
     "name": "stdout",
     "output_type": "stream",
     "text": [
      "Rmse =28.235209861662607\n",
      "                            OLS Regression Results                            \n",
      "==============================================================================\n",
      "Dep. Variable:        Prix_sans_reduc   R-squared:                       0.604\n",
      "Model:                            OLS   Adj. R-squared:                  0.601\n",
      "Method:                 Least Squares   F-statistic:                     241.3\n",
      "Date:                Sat, 06 Jun 2020   Prob (F-statistic):          9.67e-310\n",
      "Time:                        23:16:47   Log-Likelihood:                -7591.4\n",
      "No. Observations:                1595   AIC:                         1.520e+04\n",
      "Df Residuals:                    1584   BIC:                         1.526e+04\n",
      "Df Model:                          10                                         \n",
      "Covariance Type:            nonrobust                                         \n",
      "=========================================================================================================\n",
      "                                            coef    std err          t      P>|t|      [0.025      0.975]\n",
      "---------------------------------------------------------------------------------------------------------\n",
      "const                                   -82.0725     12.497     -6.568      0.000    -106.584     -57.561\n",
      "Nb_Voyageurs                             14.2062      0.444     31.983      0.000      13.335      15.077\n",
      "Nb_Salles_de_Bain                        17.3534      2.016      8.608      0.000      13.399      21.308\n",
      "Jardin                                  -12.5564      2.668     -4.707      0.000     -17.789      -7.324\n",
      "coté                                      7.9873      1.450      5.510      0.000       5.144      10.831\n",
      "Annulation_gratuite_pendant_48_heures     5.7635      1.934      2.980      0.003       1.970       9.557\n",
      "Annulation_gratuite_longue                4.0374      1.875      2.153      0.031       0.359       7.716\n",
      "Lave_vaisselle                           10.7525      1.682      6.394      0.000       7.454      14.051\n",
      "Note                                     17.8374      2.669      6.684      0.000      12.603      23.072\n",
      "Nb_comments                               0.0462      0.009      5.079      0.000       0.028       0.064\n",
      "Détecteur_de_fumée                       -1.5048      1.906     -0.789      0.430      -5.244       2.234\n",
      "==============================================================================\n",
      "Omnibus:                      189.198   Durbin-Watson:                   1.876\n",
      "Prob(Omnibus):                  0.000   Jarque-Bera (JB):              347.233\n",
      "Skew:                           0.764   Prob(JB):                     3.97e-76\n",
      "Kurtosis:                       4.700   Cond. No.                     1.72e+03\n",
      "==============================================================================\n",
      "\n",
      "Warnings:\n",
      "[1] Standard Errors assume that the covariance matrix of the errors is correctly specified.\n",
      "[2] The condition number is large, 1.72e+03. This might indicate that there are\n",
      "strong multicollinearity or other numerical problems.\n"
     ]
    }
   ],
   "source": [
    "import statsmodels.api as sm\n",
    "from statsmodels.tools.eval_measures import rmse\n",
    "\n",
    "Test=P_value_Base.copy()\n",
    "Test=pd.concat([Test,Clean_Base[\"Prix_sans_reduc\"]], axis=1).dropna()\n",
    "\n",
    "try:\n",
    "    Test.drop(['Prix_reduc'],axis=1,inplace=True)\n",
    "except:\n",
    "    pass\n",
    "\n",
    "y=Test[\"Prix_sans_reduc\"]\n",
    "x=Test.drop([\"Prix_sans_reduc\"],axis=1)\n",
    "x=sm.add_constant(x)\n",
    "model=sm.OLS(y,x)\n",
    "results = model.fit()\n",
    "results.summary()\n",
    "ypred=results.predict(x)\n",
    "\n",
    "rmse=rmse(y, ypred)\n",
    "\n",
    "print(\"Rmse =\"+str(rmse))\n",
    "print(results.summary())"
   ]
  },
  {
   "cell_type": "markdown",
   "metadata": {},
   "source": [
    "## 6.2.7) Modèle P-value plus ACP"
   ]
  },
  {
   "cell_type": "code",
   "execution_count": 19,
   "metadata": {
    "scrolled": true
   },
   "outputs": [
    {
     "name": "stdout",
     "output_type": "stream",
     "text": [
      "Rmse =28.091010884785838\n",
      "                            OLS Regression Results                            \n",
      "==============================================================================\n",
      "Dep. Variable:        Prix_sans_reduc   R-squared:                       0.563\n",
      "Model:                            OLS   Adj. R-squared:                  0.560\n",
      "Method:                 Least Squares   F-statistic:                     198.6\n",
      "Date:                Sat, 06 Jun 2020   Prob (F-statistic):          1.39e-268\n",
      "Time:                        23:16:51   Log-Likelihood:                -7378.8\n",
      "No. Observations:                1552   AIC:                         1.478e+04\n",
      "Df Residuals:                    1541   BIC:                         1.484e+04\n",
      "Df Model:                          10                                         \n",
      "Covariance Type:            nonrobust                                         \n",
      "=========================================================================================================\n",
      "                                            coef    std err          t      P>|t|      [0.025      0.975]\n",
      "---------------------------------------------------------------------------------------------------------\n",
      "const                                   -90.3063     12.901     -7.000      0.000    -115.611     -65.001\n",
      "Nb_Voyageurs                             12.0408      0.604     19.938      0.000      10.856      13.225\n",
      "Nb_Salles_de_Bain                        16.4838      2.099      7.854      0.000      12.367      20.600\n",
      "List_nb                                   4.0474      0.723      5.599      0.000       2.629       5.465\n",
      "Jardin                                  -10.4092      2.697     -3.860      0.000     -15.699      -5.120\n",
      "Note                                     21.7173      2.692      8.068      0.000      16.437      26.997\n",
      "coté                                      8.9798      1.450      6.194      0.000       6.136      11.823\n",
      "Annulation_gratuite_pendant_48_heures     5.1470      1.963      2.621      0.009       1.296       8.998\n",
      "Détecteur_de_fumée                       -0.3689      1.900     -0.194      0.846      -4.095       3.358\n",
      "Annulation_gratuite_longue                3.7748      1.887      2.000      0.046       0.073       7.476\n",
      "Logement_Entier                           3.5827      2.959      1.211      0.226      -2.222       9.388\n",
      "==============================================================================\n",
      "Omnibus:                      217.656   Durbin-Watson:                   1.911\n",
      "Prob(Omnibus):                  0.000   Jarque-Bera (JB):              396.948\n",
      "Skew:                           0.883   Prob(JB):                     6.37e-87\n",
      "Kurtosis:                       4.738   Cond. No.                         116.\n",
      "==============================================================================\n",
      "\n",
      "Warnings:\n",
      "[1] Standard Errors assume that the covariance matrix of the errors is correctly specified.\n"
     ]
    }
   ],
   "source": [
    "import statsmodels.api as sm\n",
    "from statsmodels.tools.eval_measures import rmse\n",
    "\n",
    "Test=P_value_ACP_Base.copy()\n",
    "Test=pd.concat([Test,Clean_Base[\"Prix_sans_reduc\"]], axis=1).dropna()\n",
    "\n",
    "try:\n",
    "    Test.drop(['Prix_reduc'],axis=1,inplace=True)\n",
    "except:\n",
    "    pass\n",
    "\n",
    "y=Test[\"Prix_sans_reduc\"]\n",
    "x=Test.drop([\"Prix_sans_reduc\"],axis=1)\n",
    "x=sm.add_constant(x)\n",
    "model=sm.OLS(y,x)\n",
    "results = model.fit()\n",
    "results.summary()\n",
    "ypred=results.predict(x)\n",
    "\n",
    "rmse=rmse(y, ypred)\n",
    "\n",
    "print(\"Rmse =\"+str(rmse))\n",
    "print(results.summary())"
   ]
  },
  {
   "cell_type": "markdown",
   "metadata": {},
   "source": [
    "## 6.2.8) Modèle RFE"
   ]
  },
  {
   "cell_type": "code",
   "execution_count": 20,
   "metadata": {
    "scrolled": true
   },
   "outputs": [
    {
     "name": "stdout",
     "output_type": "stream",
     "text": [
      "Rmse =27.835248444756786\n",
      "                            OLS Regression Results                            \n",
      "==============================================================================\n",
      "Dep. Variable:        Prix_sans_reduc   R-squared:                       0.615\n",
      "Model:                            OLS   Adj. R-squared:                  0.610\n",
      "Method:                 Least Squares   F-statistic:                     132.3\n",
      "Date:                Sat, 06 Jun 2020   Prob (F-statistic):          2.90e-309\n",
      "Time:                        23:16:56   Log-Likelihood:                -7568.7\n",
      "No. Observations:                1595   AIC:                         1.518e+04\n",
      "Df Residuals:                    1575   BIC:                         1.528e+04\n",
      "Df Model:                          19                                         \n",
      "Covariance Type:            nonrobust                                         \n",
      "=================================================================================================\n",
      "                                    coef    std err          t      P>|t|      [0.025      0.975]\n",
      "-------------------------------------------------------------------------------------------------\n",
      "const                           -61.1773     13.806     -4.431      0.000     -88.258     -34.097\n",
      "Note                             10.9387      2.829      3.867      0.000       5.390      16.488\n",
      "Logement_Entier                  12.1408      3.307      3.671      0.000       5.654      18.627\n",
      "Hôte_expérimenté                  5.9241      2.984      1.985      0.047       0.070      11.778\n",
      "Superhost_list                    6.4861      1.924      3.371      0.001       2.712      10.260\n",
      "Wi-Fi                            12.6430      3.624      3.489      0.000       5.535      19.751\n",
      "Parking_payant                    4.4696      1.618      2.762      0.006       1.295       7.644\n",
      "Chargeur_EV                      -9.5307      7.601     -1.254      0.210     -24.440       5.379\n",
      "Jacuzzi                          25.8043     10.777      2.394      0.017       4.665      46.944\n",
      "Cuisine                          -8.0763      4.190     -1.928      0.054     -16.294       0.142\n",
      "four                             -8.3800      2.346     -3.573      0.000     -12.981      -3.779\n",
      "Lave_vaisselle                   10.5891      1.784      5.936      0.000       7.090      14.088\n",
      "Cafetière                         7.0829      2.092      3.385      0.001       2.979      11.187\n",
      "Ustensiles_de_cuisine_de_base     4.7955      2.118      2.264      0.024       0.641       8.950\n",
      "Acceuil_Personnel                 9.5304      4.061      2.347      0.019       1.565      17.496\n",
      "Jardin                          -14.8014      2.720     -5.441      0.000     -20.137      -9.466\n",
      "Extincteur                        7.3272      1.913      3.830      0.000       3.575      11.079\n",
      "Nb_Voyageurs                     12.3654      0.746     16.572      0.000      10.902      13.829\n",
      "Nb_Lits                           1.6773      1.051      1.596      0.111      -0.384       3.738\n",
      "Nb_Salles_de_Bain                18.0281      2.020      8.924      0.000      14.065      21.991\n",
      "==============================================================================\n",
      "Omnibus:                      197.473   Durbin-Watson:                   1.884\n",
      "Prob(Omnibus):                  0.000   Jarque-Bera (JB):              346.423\n",
      "Skew:                           0.809   Prob(JB):                     5.96e-76\n",
      "Kurtosis:                       4.610   Cond. No.                         140.\n",
      "==============================================================================\n",
      "\n",
      "Warnings:\n",
      "[1] Standard Errors assume that the covariance matrix of the errors is correctly specified.\n"
     ]
    }
   ],
   "source": [
    "import statsmodels.api as sm\n",
    "from statsmodels.tools.eval_measures import rmse\n",
    "\n",
    "Test=Base_RFE.copy()\n",
    "\n",
    "try:\n",
    "    Test.drop(['Prix_reduc'],axis=1,inplace=True)\n",
    "except:\n",
    "    pass\n",
    "\n",
    "y=Test[\"Prix_sans_reduc\"]\n",
    "x=Test.drop([\"Prix_sans_reduc\"],axis=1)\n",
    "x=sm.add_constant(x)\n",
    "model=sm.OLS(y,x)\n",
    "results = model.fit()\n",
    "results.summary()\n",
    "ypred=results.predict(x)\n",
    "\n",
    "rmse=rmse(y, ypred)\n",
    "\n",
    "print(\"Rmse =\"+str(rmse))\n",
    "print(results.summary())"
   ]
  },
  {
   "cell_type": "markdown",
   "metadata": {},
   "source": [
    "## 6.2.7) Modèle RFE plus ACP"
   ]
  },
  {
   "cell_type": "code",
   "execution_count": 21,
   "metadata": {
    "scrolled": true
   },
   "outputs": [
    {
     "name": "stdout",
     "output_type": "stream",
     "text": [
      "Rmse =27.669062085506372\n",
      "                            OLS Regression Results                            \n",
      "==============================================================================\n",
      "Dep. Variable:        Prix_sans_reduc   R-squared:                       0.576\n",
      "Model:                            OLS   Adj. R-squared:                  0.571\n",
      "Method:                 Least Squares   F-statistic:                     109.6\n",
      "Date:                Sat, 06 Jun 2020   Prob (F-statistic):          8.81e-269\n",
      "Time:                        23:17:01   Log-Likelihood:                -7355.3\n",
      "No. Observations:                1552   AIC:                         1.475e+04\n",
      "Df Residuals:                    1532   BIC:                         1.486e+04\n",
      "Df Model:                          19                                         \n",
      "Covariance Type:            nonrobust                                         \n",
      "=================================================================================================\n",
      "                                    coef    std err          t      P>|t|      [0.025      0.975]\n",
      "-------------------------------------------------------------------------------------------------\n",
      "const                           -56.6786     14.054     -4.033      0.000     -84.245     -29.112\n",
      "Note                             14.1089      2.905      4.857      0.000       8.411      19.806\n",
      "Logement_Entier                   9.5888      3.580      2.678      0.007       2.566      16.612\n",
      "Arrivée_irréprochable            -4.4409      2.554     -1.739      0.082      -9.450       0.568\n",
      "Superhost_list                    5.3323      1.931      2.761      0.006       1.544       9.120\n",
      "Wi-Fi                            11.2156      3.637      3.084      0.002       4.082      18.349\n",
      "Lit_pour_bébé                     5.6531      2.824      2.002      0.045       0.114      11.192\n",
      "Parking_gratuit                 -12.7162      2.254     -5.641      0.000     -17.138      -8.295\n",
      "Jacuzzi                          32.8643     11.504      2.857      0.004      10.299      55.429\n",
      "Cuisine                          -7.7606      4.214     -1.842      0.066     -16.027       0.505\n",
      "four                             -8.0225      2.348     -3.417      0.001     -12.627      -3.418\n",
      "Lave_vaisselle                   11.0568      1.800      6.142      0.000       7.526      14.588\n",
      "Cafetière                         6.2100      2.084      2.980      0.003       2.123      10.297\n",
      "Ustensiles_de_cuisine_de_base     7.5143      2.080      3.612      0.000       3.434      11.595\n",
      "Acceuil_Personnel                 8.8348      4.141      2.134      0.033       0.712      16.957\n",
      "Salon_privé                       4.6002      8.703      0.529      0.597     -12.472      21.672\n",
      "Jardin                          -10.2164      2.900     -3.523      0.000     -15.904      -4.528\n",
      "Extincteur                        7.4782      1.962      3.811      0.000       3.630      11.327\n",
      "Nb_Voyageurs                     13.8146      0.767     18.000      0.000      12.309      15.320\n",
      "Nb_Lits                           2.0358      1.137      1.791      0.074      -0.194       4.266\n",
      "==============================================================================\n",
      "Omnibus:                      219.994   Durbin-Watson:                   1.865\n",
      "Prob(Omnibus):                  0.000   Jarque-Bera (JB):              400.915\n",
      "Skew:                           0.891   Prob(JB):                     8.76e-88\n",
      "Kurtosis:                       4.738   Cond. No.                         137.\n",
      "==============================================================================\n",
      "\n",
      "Warnings:\n",
      "[1] Standard Errors assume that the covariance matrix of the errors is correctly specified.\n"
     ]
    }
   ],
   "source": [
    "import statsmodels.api as sm\n",
    "from statsmodels.tools.eval_measures import rmse\n",
    "\n",
    "Test=Base_RFE_ACP.copy()\n",
    "\n",
    "try:\n",
    "    Test.drop(['Prix_reduc'],axis=1,inplace=True)\n",
    "except:\n",
    "    pass\n",
    "\n",
    "y=Test[\"Prix_sans_reduc\"]\n",
    "x=Test.drop([\"Prix_sans_reduc\"],axis=1)\n",
    "x=sm.add_constant(x)\n",
    "model=sm.OLS(y,x)\n",
    "results = model.fit()\n",
    "results.summary()\n",
    "ypred=results.predict(x)\n",
    "\n",
    "rmse=rmse(y, ypred)\n",
    "\n",
    "print(\"Rmse =\"+str(rmse))\n",
    "print(results.summary())"
   ]
  },
  {
   "cell_type": "markdown",
   "metadata": {},
   "source": [
    "## 6.3) Prédiction de Prix"
   ]
  },
  {
   "cell_type": "markdown",
   "metadata": {},
   "source": [
    "Pour prédire un prix nous allons renseigné la base de la ville qui nous intéresse, nous créons une observation correspondant à l'appartement de didier, nous estimons le modele sur notre base puis nous appliquont le modèle a l'appartement. Dans cette premiere étépe nous créons l'appartement de didier et on lui calcule les variables d'acp qui lui revienne."
   ]
  },
  {
   "cell_type": "code",
   "execution_count": 22,
   "metadata": {},
   "outputs": [],
   "source": [
    "Base=pd.read_csv(r'Chemin de la base\\\\Paris.csv')\n",
    "Clean_Base=cleaning(DataFrame=Base)\n",
    "\n",
    "Prix_sans_reduc=Clean_Base[\"Prix_sans_reduc\"].mean()\n",
    "Prix_reduc=Clean_Base[\"Prix_reduc\"].mean()\n",
    "\n",
    "observation=['4.612234','1','1','0','1','0','1','1','1','1','1','1','0','1','0','0','1','1','1','1','1','1','0','0','0','0','1','0','0','0','0','0','0','1','1','1','1','0','1','1','1','1','1','0','0','0','1','0','0','0','1','1','1','1','1','0','1','1','1','0','0','0','0','0','0','0','24','100','100','34','2','1','1','0','1','1','0']\n",
    "my_appart_carac=[float(i) for i in observation]\n",
    "Clean_Base.reset_index(drop=True,inplace=True)\n",
    "Clean_Base.loc[len(Clean_Base)]=my_appart_carac\n",
    "\n",
    "Clean_Base.loc[len(Clean_Base)-1,\"Prix_sans_reduc\"]=Prix_sans_reduc\n",
    "Clean_Base.loc[len(Clean_Base)-1,\"Prix_reduc\"]=Prix_reduc\n",
    "\n",
    "acp=ACP_select(Clean_Base)\n",
    "Clean_Base_plus_acp=pd.concat([Clean_Base,acp], axis=1).dropna()\n",
    "\n",
    "New_Obs=Clean_Base_plus_acp.iloc[len(Clean_Base_plus_acp)-1]"
   ]
  },
  {
   "cell_type": "markdown",
   "metadata": {},
   "source": [
    "Ensuite, nous estimons le modèle sur notre base, nous choisissons le modèle corrélation plus acp car il arrive à des scores de RMSE correct et est plus interpetrétable qu'un modèle trop complet "
   ]
  },
  {
   "cell_type": "code",
   "execution_count": 23,
   "metadata": {},
   "outputs": [
    {
     "name": "stdout",
     "output_type": "stream",
     "text": [
      "RMSE =28.28789535891183\n",
      "                            OLS Regression Results                            \n",
      "==============================================================================\n",
      "Dep. Variable:        Prix_sans_reduc   R-squared:                       0.557\n",
      "Model:                            OLS   Adj. R-squared:                  0.554\n",
      "Method:                 Least Squares   F-statistic:                     193.7\n",
      "Date:                Sat, 06 Jun 2020   Prob (F-statistic):          6.29e-264\n",
      "Time:                        23:17:18   Log-Likelihood:                -7389.7\n",
      "No. Observations:                1552   AIC:                         1.480e+04\n",
      "Df Residuals:                    1541   BIC:                         1.486e+04\n",
      "Df Model:                          10                                         \n",
      "Covariance Type:            nonrobust                                         \n",
      "=====================================================================================\n",
      "                        coef    std err          t      P>|t|      [0.025      0.975]\n",
      "-------------------------------------------------------------------------------------\n",
      "const                 8.8269      3.578      2.467      0.014       1.808      15.845\n",
      "Télévision            7.2972      1.762      4.142      0.000       3.842      10.753\n",
      "Lave_vaisselle        8.5308      1.859      4.589      0.000       4.884      12.177\n",
      "Bébés                 0.7560      1.727      0.438      0.662      -2.632       4.143\n",
      "Nb_équipement         0.3820      0.110      3.457      0.001       0.165       0.599\n",
      "Nb_Voyageurs         10.5047      0.882     11.905      0.000       8.774      12.236\n",
      "Nb_Lits              -0.1286      1.156     -0.111      0.911      -2.396       2.139\n",
      "Nb_Salles_de_Bain    16.7836      2.109      7.957      0.000      12.646      20.921\n",
      "Studio               -2.2438      1.813     -1.238      0.216      -5.800       1.312\n",
      "Bébé1                 1.1030      0.584      1.889      0.059      -0.043       2.249\n",
      "List_nb               3.3034      0.754      4.383      0.000       1.825       4.782\n",
      "==============================================================================\n",
      "Omnibus:                      207.108   Durbin-Watson:                   1.953\n",
      "Prob(Omnibus):                  0.000   Jarque-Bera (JB):              382.993\n",
      "Skew:                           0.841   Prob(JB):                     6.83e-84\n",
      "Kurtosis:                       4.760   Cond. No.                         126.\n",
      "==============================================================================\n",
      "\n",
      "Warnings:\n",
      "[1] Standard Errors assume that the covariance matrix of the errors is correctly specified.\n"
     ]
    }
   ],
   "source": [
    "Base=pd.read_csv(r' Chemin de la base\\\\Paris.csv')\n",
    "Clean_Base=cleaning(DataFrame=Base)\n",
    "\n",
    "acp=ACP_select(Clean_Base)\n",
    "Clean_Base_plus_acp=pd.concat([Clean_Base,acp], axis=1).dropna()\n",
    "Resultat_Clean_Base_plus_acp=corr_select(Clean_Base_plus_acp,Var=\"Prix_sans_reduc\",corr=0.25)\n",
    "ACP_df_corr_selected=Resultat_Clean_Base_plus_acp[0]\n",
    "\n",
    "\n",
    "import statsmodels.api as sm\n",
    "from statsmodels.tools.eval_measures import rmse\n",
    "\n",
    "Test=ACP_df_corr_selected.copy()\n",
    "\n",
    "try:\n",
    "    Test.drop(['Prix_reduc'],axis=1,inplace=True)\n",
    "except:\n",
    "    pass\n",
    "\n",
    "y=Test[\"Prix_sans_reduc\"]\n",
    "x=Test.drop([\"Prix_sans_reduc\"],axis=1)\n",
    "x=sm.add_constant(x)\n",
    "model=sm.OLS(y,x)\n",
    "results = model.fit()\n",
    "\n",
    "ypred=results.predict(x)\n",
    "rmse=rmse(y, ypred)\n",
    "\n",
    "print(\"RMSE =\"+str(rmse))\n",
    "print(results.summary())"
   ]
  },
  {
   "cell_type": "markdown",
   "metadata": {},
   "source": [
    "Enfin on présente notre prix estimé (ici pour Paris) ainsi qu'un intervalle de confiance"
   ]
  },
  {
   "cell_type": "code",
   "execution_count": 24,
   "metadata": {},
   "outputs": [
    {
     "name": "stdout",
     "output_type": "stream",
     "text": [
      "le prix prédit est de 66€ pour la location à Paris\n",
      "avec un intervalle confiance de +/- :1.579450159193012\n"
     ]
    }
   ],
   "source": [
    "Appartement=New_Obs[x.columns]\n",
    "Appartement[\"const\"]=1\n",
    "\n",
    "App2=Appartement.to_frame()\n",
    "New_location=App2.transpose()\n",
    "\n",
    "ypred=results.predict(New_location)\n",
    "\n",
    "\n",
    "import numpy as np\n",
    "import scipy.stats\n",
    "\n",
    "yres=results.predict(x)\n",
    "\n",
    "\n",
    "def mean_confidence_interval(data, confidence=0.95):\n",
    "    a = 1.0 * np.array(data)\n",
    "    n = len(a)\n",
    "    m, se = np.mean(a), scipy.stats.sem(a)\n",
    "    h = se * scipy.stats.t.ppf((1 + confidence) / 2., n-1)\n",
    "    return h\n",
    "\n",
    "\n",
    "int_conf=mean_confidence_interval(yres)\n",
    "\n",
    "print(\"le prix prédit est de \"+str(int(ypred.iloc[0]))+\"€ pour la location à Paris\")\n",
    "print (\"avec un intervalle confiance de +/- :\" +str(int_conf))\n"
   ]
  },
  {
   "cell_type": "markdown",
   "metadata": {},
   "source": [
    "Pour Nice le pris est de 71, le prix du logement à Nice est plus cher que celui qu'il a à Paris. Il est donc plus rentable pour lui de louer son appartement au Sud."
   ]
  },
  {
   "cell_type": "code",
   "execution_count": null,
   "metadata": {},
   "outputs": [],
   "source": []
  }
 ],
 "metadata": {
  "kernelspec": {
   "display_name": "Python 3",
   "language": "python",
   "name": "python3"
  },
  "language_info": {
   "codemirror_mode": {
    "name": "ipython",
    "version": 3
   },
   "file_extension": ".py",
   "mimetype": "text/x-python",
   "name": "python",
   "nbconvert_exporter": "python",
   "pygments_lexer": "ipython3",
   "version": "3.7.7"
  }
 },
 "nbformat": 4,
 "nbformat_minor": 4
}
